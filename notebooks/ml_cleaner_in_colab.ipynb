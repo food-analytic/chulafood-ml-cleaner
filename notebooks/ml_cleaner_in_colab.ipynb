{
  "cells": [
    {
      "cell_type": "markdown",
      "metadata": {},
      "source": [
        "<a href=\"https://colab.research.google.com/github/Megacodexz/chulafood-ml-cleaner/blob/main/notebooks/ml_cleaner_on_colab.ipynb\" target=\"_parent\"><img src=\"https://colab.research.google.com/assets/colab-badge.svg\" alt=\"Open In Colab\"/></a>"
      ]
    },
    {
      "cell_type": "code",
      "execution_count": null,
      "metadata": {
        "id": "RRbjEj-Qfuu8"
      },
      "outputs": [],
      "source": [
        "!git clone -q https://github.com/Megacodexz/chulafood-ml-cleaner.git\n",
        "%cd chulafood-ml-cleaner/\n",
        "%pip install -qqq -r requirements.txt"
      ]
    },
    {
      "cell_type": "markdown",
      "metadata": {
        "id": "0RXrsIq4gcVE"
      },
      "source": [
        "## Please mount your drive before running the following cells."
      ]
    },
    {
      "cell_type": "code",
      "execution_count": null,
      "metadata": {
        "id": "pjZ3X9NYogIN"
      },
      "outputs": [],
      "source": [
        "run_name = 'sample'"
      ]
    },
    {
      "cell_type": "code",
      "execution_count": null,
      "metadata": {
        "id": "LUNhJ-2Ff5ON"
      },
      "outputs": [],
      "source": [
        "!unzip -qq -O utf-8 '/content/drive/Shareddrives/Food Analytic/Clean Data/Auto Clean Data/{run_name}.zip' -d '/content/chulafood-ml-cleaner/data'"
      ]
    },
    {
      "cell_type": "code",
      "execution_count": null,
      "metadata": {
        "id": "58cndX16jmSk"
      },
      "outputs": [],
      "source": [
        "!python /content/chulafood-ml-cleaner/run_cleaner.py -n '{run_name}' -b 320"
      ]
    },
    {
      "cell_type": "markdown",
      "metadata": {
        "id": "SnlxsudsnvfN"
      },
      "source": [
        "## [Optional] Copy data, trained model, result into the shared drive."
      ]
    },
    {
      "cell_type": "code",
      "execution_count": null,
      "metadata": {
        "id": "sfYLyGw-oBcB"
      },
      "outputs": [],
      "source": [
        "!mkdir '/content/drive/Shareddrives/Food Analytic/Clean Data/Auto Clean Result/{run_name}'\n",
        "\n",
        "%cd '/content/chulafood-ml-cleaner/data/'\n",
        "!zip -qr '/content/drive/Shareddrives/Food Analytic/Clean Data/Auto Clean Result/{run_name}/{run_name}.zip' '{run_name}/' \n",
        "\n",
        "!cp '/content/chulafood-ml-cleaner/models/{run_name}.pt' '/content/drive/Shareddrives/Food Analytic/Clean Data/Auto Clean Result/{run_name}/'\n",
        "\n",
        "!cp '/content/chulafood-ml-cleaner/results/{run_name}_pred.csv' '/content/drive/Shareddrives/Food Analytic/Clean Data/Auto Clean Result/{run_name}/'\n",
        "\n",
        "!cp '/content/chulafood-ml-cleaner/results/{run_name}_summary.csv' '/content/drive/Shareddrives/Food Analytic/Clean Data/Auto Clean Result/{run_name}/'"
      ]
    }
  ],
  "metadata": {
    "accelerator": "GPU",
    "colab": {
      "collapsed_sections": [],
      "name": "ML Cleaning on Colab.ipynb",
      "provenance": []
    },
    "kernelspec": {
      "display_name": "Python 3",
      "name": "python3"
    },
    "language_info": {
      "name": "python"
    }
  },
  "nbformat": 4,
  "nbformat_minor": 0
}
